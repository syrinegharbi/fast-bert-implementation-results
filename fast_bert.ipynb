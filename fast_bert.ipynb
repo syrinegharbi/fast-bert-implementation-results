{
  "nbformat": 4,
  "nbformat_minor": 0,
  "metadata": {
    "colab": {
      "name": "fast-bert.ipynb",
      "version": "0.3.2",
      "provenance": [],
      "collapsed_sections": [],
      "include_colab_link": true
    },
    "kernelspec": {
      "name": "python3",
      "display_name": "Python 3"
    },
    "accelerator": "GPU"
  },
  "cells": [
    {
      "cell_type": "markdown",
      "metadata": {
        "id": "view-in-github",
        "colab_type": "text"
      },
      "source": [
        "<a href=\"https://colab.research.google.com/github/syrinegharbi/fast-bert-implementation-results/blob/master/fast_bert.ipynb\" target=\"_parent\"><img src=\"https://colab.research.google.com/assets/colab-badge.svg\" alt=\"Open In Colab\"/></a>"
      ]
    },
    {
      "cell_type": "code",
      "metadata": {
        "id": "H8_hbdhBBocp",
        "colab_type": "code",
        "colab": {}
      },
      "source": [
        "pip install git+https://github.com/kaushaltrivedi/fast-bert.git\n"
      ],
      "execution_count": 0,
      "outputs": []
    },
    {
      "cell_type": "markdown",
      "metadata": {
        "id": "Nu_olNSRCE32",
        "colab_type": "text"
      },
      "source": [
        "\n",
        "1- Create a DataBunch object\n",
        "The databunch object takes training, validation and test csv files and converts the data into internal representation for BERT or XLNet. The object also instantiates the correct data-loaders based on device profile and batch_size and max_sequence_length.\n"
      ]
    },
    {
      "cell_type": "code",
      "metadata": {
        "id": "p4u2Qfdl92V9",
        "colab_type": "code",
        "colab": {}
      },
      "source": [
        "\n",
        "from fast_bert.data_cls import BertDataBunch\n",
        "from pathlib import Path\n",
        "import torch\n",
        "from fast_bert.learner_cls import BertLearner\n",
        "from fast_bert.metrics import accuracy\n",
        "import logging\n",
        "\n",
        "torch.cuda.empty_cache()\n",
        "\n",
        "DATA_PATH = Path('./')\n",
        "LABEL_PATH = Path('./')\n",
        "OUTPUT_PATH = Path('./')\n",
        "\n",
        "\n",
        "databunch = BertDataBunch(DATA_PATH, LABEL_PATH,\n",
        "                          tokenizer='bert-base-uncased',\n",
        "                          train_file='trn.csv',\n",
        "                          val_file='valid.csv',\n",
        "                          label_file='lbl.csv',\n",
        "                          text_col='Message',\n",
        "                          label_col=[\"Corrective\", \"Perfective\", \"Adaptive\"],\n",
        "                          batch_size_per_gpu=4,\n",
        "                          max_seq_length=512,\n",
        "                          multi_gpu=True,\n",
        "                          multi_label=True,\n",
        "                          model_type='bert')\n",
        "num_labels = len(databunch.labels)\n",
        "print(num_labels)\n",
        "torch.cuda.empty_cache()"
      ],
      "execution_count": 0,
      "outputs": []
    },
    {
      "cell_type": "markdown",
      "metadata": {
        "id": "JZKWPsFNCR7o",
        "colab_type": "text"
      },
      "source": [
        "**2 - Create a Learner Object**"
      ]
    },
    {
      "cell_type": "code",
      "metadata": {
        "id": "mrgHbRtHCMD0",
        "colab_type": "code",
        "colab": {}
      },
      "source": [
        "logger = logging.getLogger()\n",
        "device_cuda = torch.device(\"cuda\")\n",
        "metrics = [{'name': 'accuracy', 'function': accuracy}]\n",
        "\n",
        "learner = BertLearner.from_pretrained_model(\n",
        "\t\t\t\t\t\tdatabunch,\n",
        "\t\t\t\t\t\tpretrained_path='bert-base-uncased',\n",
        "\t\t\t\t\t\tmetrics=metrics,\n",
        "\t\t\t\t\t\tdevice=device_cuda,\n",
        "\t\t\t\t\t\tlogger=logger,\n",
        "\t\t\t\t\t\toutput_dir=OUTPUT_PATH,\n",
        "\t\t\t\t\t\tfinetuned_wgts_path=None,\n",
        "\t\t\t\t\t\twarmup_steps=20,\n",
        "\t\t\t\t\t\tmulti_gpu=False,\n",
        "\t\t\t\t\t\tis_fp16=True,\n",
        "\t\t\t\t\t\tmulti_label=True,\n",
        "\t\t\t\t\t\tlogging_steps=30)\n",
        "torch.cuda.empty_cache()"
      ],
      "execution_count": 0,
      "outputs": []
    },
    {
      "cell_type": "code",
      "metadata": {
        "id": "5gBhrSJbQ9rY",
        "colab_type": "code",
        "colab": {}
      },
      "source": [
        "!git clone https://github.com/NVIDIA/apex"
      ],
      "execution_count": 0,
      "outputs": []
    },
    {
      "cell_type": "code",
      "metadata": {
        "id": "9xVkL0BgRkZn",
        "colab_type": "code",
        "colab": {}
      },
      "source": [
        "!cd apex && pip install -v --no-cache-dir --global-option=\"--cpp_ext\" --global-option=\"--cuda_ext\" ./"
      ],
      "execution_count": 0,
      "outputs": []
    },
    {
      "cell_type": "markdown",
      "metadata": {
        "id": "5GORuok-CeMO",
        "colab_type": "text"
      },
      "source": [
        "**Train the model**"
      ]
    },
    {
      "cell_type": "code",
      "metadata": {
        "id": "R-UL-Qs_Xad5",
        "colab_type": "code",
        "colab": {}
      },
      "source": [
        "torch.cuda.empty_cache()"
      ],
      "execution_count": 0,
      "outputs": []
    },
    {
      "cell_type": "code",
      "metadata": {
        "id": "5aUtuHztCihP",
        "colab_type": "code",
        "colab": {}
      },
      "source": [
        "learner.fit(epochs=6,\n",
        "\t\t\tlr=6e-5,\n",
        "\t\t\tvalidate=True, \t# Evaluate the model after each epoch\n",
        "\t\t\tschedule_type=\"warmup_cosine\")\n",
        "torch.cuda.empty_cache()"
      ],
      "execution_count": 0,
      "outputs": []
    },
    {
      "cell_type": "markdown",
      "metadata": {
        "id": "b_COrMrQp31n",
        "colab_type": "text"
      },
      "source": [
        "**Save the model**"
      ]
    },
    {
      "cell_type": "code",
      "metadata": {
        "id": "jTJRPK_zp083",
        "colab_type": "code",
        "colab": {}
      },
      "source": [
        "learner.save_model()"
      ],
      "execution_count": 0,
      "outputs": []
    },
    {
      "cell_type": "markdown",
      "metadata": {
        "id": "jnA3SE7_qFPQ",
        "colab_type": "text"
      },
      "source": [
        "**Prepare text to predict**"
      ]
    },
    {
      "cell_type": "code",
      "metadata": {
        "id": "_Tro3h49qLqe",
        "colab_type": "code",
        "colab": {}
      },
      "source": [
        "texts = ['add new interface and fix activity bug',\n",
        "\t\t 'push new version']\n",
        "predictions = learner.predict_batch(texts)\n",
        "print(predictions)"
      ],
      "execution_count": 0,
      "outputs": []
    }
  ]
}